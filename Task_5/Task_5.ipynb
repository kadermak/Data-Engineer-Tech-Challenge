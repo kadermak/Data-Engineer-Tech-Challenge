{
 "cells": [
  {
   "cell_type": "code",
   "execution_count": 23,
   "id": "79cbb8f0",
   "metadata": {},
   "outputs": [],
   "source": [
    "#predict buying price\n",
    "### General libraries ###\n",
    "import pandas as pd\n",
    "import matplotlib.pyplot as plt\n",
    "import numpy as np\n",
    "\n",
    "##################################\n",
    "\n",
    "### ML Models ###\n",
    "from sklearn.linear_model import LogisticRegression\n",
    "from sklearn.tree import DecisionTreeClassifier\n",
    "from sklearn.neural_network import MLPClassifier\n",
    "from sklearn.model_selection import GridSearchCV\n",
    "from sklearn.model_selection import train_test_split, cross_val_score\n",
    "\n",
    "##################################\n",
    "\n",
    "### Metrics ###\n",
    "from sklearn import metrics\n",
    "from sklearn.metrics import confusion_matrix, mean_squared_error, mean_absolute_error, classification_report"
   ]
  },
  {
   "cell_type": "code",
   "execution_count": 24,
   "id": "c2069671",
   "metadata": {},
   "outputs": [
    {
     "data": {
      "text/html": [
       "<div>\n",
       "<style scoped>\n",
       "    .dataframe tbody tr th:only-of-type {\n",
       "        vertical-align: middle;\n",
       "    }\n",
       "\n",
       "    .dataframe tbody tr th {\n",
       "        vertical-align: top;\n",
       "    }\n",
       "\n",
       "    .dataframe thead th {\n",
       "        text-align: right;\n",
       "    }\n",
       "</style>\n",
       "<table border=\"1\" class=\"dataframe\">\n",
       "  <thead>\n",
       "    <tr style=\"text-align: right;\">\n",
       "      <th></th>\n",
       "      <th>buying</th>\n",
       "      <th>maint</th>\n",
       "      <th>doors</th>\n",
       "      <th>person</th>\n",
       "      <th>lug_boot</th>\n",
       "      <th>safety</th>\n",
       "      <th>class</th>\n",
       "    </tr>\n",
       "  </thead>\n",
       "  <tbody>\n",
       "    <tr>\n",
       "      <th>0</th>\n",
       "      <td>vhigh</td>\n",
       "      <td>vhigh</td>\n",
       "      <td>2</td>\n",
       "      <td>2</td>\n",
       "      <td>small</td>\n",
       "      <td>low</td>\n",
       "      <td>unacc</td>\n",
       "    </tr>\n",
       "    <tr>\n",
       "      <th>1</th>\n",
       "      <td>vhigh</td>\n",
       "      <td>vhigh</td>\n",
       "      <td>2</td>\n",
       "      <td>2</td>\n",
       "      <td>small</td>\n",
       "      <td>med</td>\n",
       "      <td>unacc</td>\n",
       "    </tr>\n",
       "    <tr>\n",
       "      <th>2</th>\n",
       "      <td>vhigh</td>\n",
       "      <td>vhigh</td>\n",
       "      <td>2</td>\n",
       "      <td>2</td>\n",
       "      <td>small</td>\n",
       "      <td>high</td>\n",
       "      <td>unacc</td>\n",
       "    </tr>\n",
       "    <tr>\n",
       "      <th>3</th>\n",
       "      <td>vhigh</td>\n",
       "      <td>vhigh</td>\n",
       "      <td>2</td>\n",
       "      <td>2</td>\n",
       "      <td>med</td>\n",
       "      <td>low</td>\n",
       "      <td>unacc</td>\n",
       "    </tr>\n",
       "    <tr>\n",
       "      <th>4</th>\n",
       "      <td>vhigh</td>\n",
       "      <td>vhigh</td>\n",
       "      <td>2</td>\n",
       "      <td>2</td>\n",
       "      <td>med</td>\n",
       "      <td>med</td>\n",
       "      <td>unacc</td>\n",
       "    </tr>\n",
       "  </tbody>\n",
       "</table>\n",
       "</div>"
      ],
      "text/plain": [
       "  buying  maint doors person lug_boot safety  class\n",
       "0  vhigh  vhigh     2      2    small    low  unacc\n",
       "1  vhigh  vhigh     2      2    small    med  unacc\n",
       "2  vhigh  vhigh     2      2    small   high  unacc\n",
       "3  vhigh  vhigh     2      2      med    low  unacc\n",
       "4  vhigh  vhigh     2      2      med    med  unacc"
      ]
     },
     "execution_count": 24,
     "metadata": {},
     "output_type": "execute_result"
    }
   ],
   "source": [
    "# process CSV , add col\n",
    "column_header = ['buying','maint','doors','person','lug_boot','safety','class']\n",
    "data = pd.read_csv(\"https://raw.githubusercontent.com/kadermak/Data-Engineer-Tech-Challenge/main/Task_5/inputdata.csv\", names =column_header)\n",
    "data.head()"
   ]
  },
  {
   "cell_type": "code",
   "execution_count": 25,
   "id": "8146aecf",
   "metadata": {},
   "outputs": [
    {
     "name": "stdout",
     "output_type": "stream",
     "text": [
      "['vhigh' 'high' 'med' 'low']\n"
     ]
    }
   ],
   "source": [
    "# get unique values for each column\n",
    "buying_values = data[\"buying\"].unique()\n",
    "maint_values = data[\"maint\"].unique()\n",
    "doors_values = data[\"doors\"].unique()\n",
    "persons_values = data[\"person\"].unique()\n",
    "lug_boot_values = data[\"lug_boot\"].unique()\n",
    "safety_values = data[\"safety\"].unique()\n",
    "class_values = data[\"class\"].unique()\n",
    "print(buying_values)"
   ]
  },
  {
   "cell_type": "code",
   "execution_count": 26,
   "id": "deacdd1c",
   "metadata": {},
   "outputs": [],
   "source": [
    "#create a replace map for each column\n",
    "buying_replace_map = {buying_values[i]: i for i in range(len(buying_values))}\n",
    "maint_replace_map = {maint_values[i]: i for i in range(len(maint_values))}\n",
    "doors_replace_map = {doors_values[i]: i for i in range(len(doors_values))}\n",
    "persons_replace_map = {persons_values[i]: i for i in range(len(persons_values))}\n",
    "lug_boot_replace_map = {lug_boot_values[i]: i for i in range(len(lug_boot_values))}\n",
    "safety_replace_map = {safety_values[i]: i for i in range(len(safety_values))}\n",
    "class_replace_map = {class_values[i]: i for i in range(len(class_values))}"
   ]
  },
  {
   "cell_type": "code",
   "execution_count": 27,
   "id": "968b473d",
   "metadata": {},
   "outputs": [],
   "source": [
    "#replace replace map\n",
    "data[\"buying\"] = data[\"buying\"].replace(buying_replace_map)\n",
    "data[\"maint\"] = data[\"maint\"].replace(maint_replace_map)\n",
    "data[\"doors\"] = data[\"doors\"].replace(doors_replace_map)\n",
    "data[\"person\"] = data[\"person\"].replace(persons_replace_map)\n",
    "data[\"lug_boot\"] = data[\"lug_boot\"].replace(lug_boot_replace_map)\n",
    "data[\"safety\"] = data[\"safety\"].replace(safety_replace_map)\n",
    "data[\"class\"] = data[\"class\"].replace(class_replace_map)"
   ]
  },
  {
   "cell_type": "code",
   "execution_count": 18,
   "id": "da7aafe9",
   "metadata": {},
   "outputs": [],
   "source": [
    "#split the dataset into training and testing data\n",
    "X = data.drop([\"buying\", \"person\"], axis=1)\n",
    "y = data[\"buying\"]\n",
    "X_train, X_test, y_train, y_test = train_test_split(X, y, test_size=0.3, random_state=0)"
   ]
  },
  {
   "cell_type": "code",
   "execution_count": 28,
   "id": "5537a017",
   "metadata": {},
   "outputs": [
    {
     "data": {
      "text/plain": [
       "DecisionTreeClassifier(criterion='entropy', max_depth=3, min_samples_split=10)"
      ]
     },
     "execution_count": 28,
     "metadata": {},
     "output_type": "execute_result"
    }
   ],
   "source": [
    "# train the model using entropy index\n",
    "model = DecisionTreeClassifier(criterion=\"entropy\", max_depth=3, min_samples_split=10)\n",
    "model.fit(X_train, y_train)"
   ]
  },
  {
   "cell_type": "code",
   "execution_count": 31,
   "id": "2586694a",
   "metadata": {},
   "outputs": [
    {
     "name": "stdout",
     "output_type": "stream",
     "text": [
      "Accuracy: 0.3044315992292871\n"
     ]
    }
   ],
   "source": [
    "# predict the model\n",
    "y_pred = model.predict(X_test)\n",
    "print(\"Accuracy:\", metrics.accuracy_score(y_test, y_pred))\n"
   ]
  },
  {
   "cell_type": "code",
   "execution_count": 30,
   "id": "c9a849d6",
   "metadata": {},
   "outputs": [
    {
     "name": "stdout",
     "output_type": "stream",
     "text": [
      "low\n"
     ]
    }
   ],
   "source": []
  },
  {
   "cell_type": "code",
   "execution_count": null,
   "id": "f6617006",
   "metadata": {},
   "outputs": [],
   "source": []
  }
 ],
 "metadata": {
  "kernelspec": {
   "display_name": "Python 3 (ipykernel)",
   "language": "python",
   "name": "python3"
  },
  "language_info": {
   "codemirror_mode": {
    "name": "ipython",
    "version": 3
   },
   "file_extension": ".py",
   "mimetype": "text/x-python",
   "name": "python",
   "nbconvert_exporter": "python",
   "pygments_lexer": "ipython3",
   "version": "3.9.12"
  }
 },
 "nbformat": 4,
 "nbformat_minor": 5
}
