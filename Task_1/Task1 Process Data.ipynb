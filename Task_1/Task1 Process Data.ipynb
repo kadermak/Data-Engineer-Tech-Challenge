{
 "cells": [
  {
   "cell_type": "code",
   "execution_count": 3,
   "id": "92bc9c5d",
   "metadata": {},
   "outputs": [],
   "source": [
    "import pandas as pd\n",
    "import matplotlib.pyplot as plt\n",
    "import numpy as np"
   ]
  },
  {
   "cell_type": "code",
   "execution_count": 4,
   "id": "2beb4487",
   "metadata": {},
   "outputs": [
    {
     "data": {
      "text/html": [
       "<div>\n",
       "<style scoped>\n",
       "    .dataframe tbody tr th:only-of-type {\n",
       "        vertical-align: middle;\n",
       "    }\n",
       "\n",
       "    .dataframe tbody tr th {\n",
       "        vertical-align: top;\n",
       "    }\n",
       "\n",
       "    .dataframe thead th {\n",
       "        text-align: right;\n",
       "    }\n",
       "</style>\n",
       "<table border=\"1\" class=\"dataframe\">\n",
       "  <thead>\n",
       "    <tr style=\"text-align: right;\">\n",
       "      <th></th>\n",
       "      <th>name</th>\n",
       "      <th>price</th>\n",
       "    </tr>\n",
       "  </thead>\n",
       "  <tbody>\n",
       "    <tr>\n",
       "      <th>0</th>\n",
       "      <td>William Dixon</td>\n",
       "      <td>109.037280</td>\n",
       "    </tr>\n",
       "    <tr>\n",
       "      <th>1</th>\n",
       "      <td>Kristen Horn</td>\n",
       "      <td>262.524652</td>\n",
       "    </tr>\n",
       "    <tr>\n",
       "      <th>2</th>\n",
       "      <td>Kimberly Chang</td>\n",
       "      <td>187.007258</td>\n",
       "    </tr>\n",
       "    <tr>\n",
       "      <th>3</th>\n",
       "      <td>Mary Ball</td>\n",
       "      <td>283.174648</td>\n",
       "    </tr>\n",
       "    <tr>\n",
       "      <th>4</th>\n",
       "      <td>Benjamin Craig</td>\n",
       "      <td>143.871582</td>\n",
       "    </tr>\n",
       "  </tbody>\n",
       "</table>\n",
       "</div>"
      ],
      "text/plain": [
       "             name       price\n",
       "0   William Dixon  109.037280\n",
       "1    Kristen Horn  262.524652\n",
       "2  Kimberly Chang  187.007258\n",
       "3       Mary Ball  283.174648\n",
       "4  Benjamin Craig  143.871582"
      ]
     },
     "execution_count": 4,
     "metadata": {},
     "output_type": "execute_result"
    }
   ],
   "source": [
    "data1 = pd.read_csv(\"https://raw.githubusercontent.com/kadermak/Data-Engineer-Tech-Challenge/main/Task_1/dataset1.csv\")\n",
    "data1.head()"
   ]
  },
  {
   "cell_type": "code",
   "execution_count": 6,
   "id": "7ba200ca",
   "metadata": {},
   "outputs": [
    {
     "data": {
      "text/plain": [
       "<bound method NDFrame.head of      first_name last_name       price  above_100\n",
       "0       William     Dixon  109.037280       True\n",
       "1       Kristen      Horn  262.524652       True\n",
       "2      Kimberly     Chang  187.007258       True\n",
       "3          Mary      Ball  283.174648       True\n",
       "4      Benjamin     Craig  143.871582       True\n",
       "...         ...       ...         ...        ...\n",
       "4995    Shirley    Nguyen    9.011665      False\n",
       "4996      Jesse     Brown  247.328232       True\n",
       "4997    Valerie     Owens  238.103714       True\n",
       "4998     Alicia     Sharp  243.622929       True\n",
       "4999     Sherry    Jensen   13.839516      False\n",
       "\n",
       "[5000 rows x 4 columns]>"
      ]
     },
     "execution_count": 6,
     "metadata": {},
     "output_type": "execute_result"
    }
   ],
   "source": [
    "#process data\n",
    "output_df = pd.DataFrame()\n",
    "output_df['first_name'] = data1['name'].str.split(' ', 1).str[0]\n",
    "output_df['last_name'] = data1['name'].str.split(' ', 1).str[1]\n",
    "output_df['price'] = pd.to_numeric(data1['price'])\n",
    " #  if the price is strictly greater than 100\n",
    "output_df['above_100'] = np.where(output_df['price']>100,True, False)\n",
    "\n",
    "output_df.head"
   ]
  },
  {
   "cell_type": "code",
   "execution_count": null,
   "id": "e9117432",
   "metadata": {},
   "outputs": [],
   "source": []
  }
 ],
 "metadata": {
  "kernelspec": {
   "display_name": "Python 3 (ipykernel)",
   "language": "python",
   "name": "python3"
  },
  "language_info": {
   "codemirror_mode": {
    "name": "ipython",
    "version": 3
   },
   "file_extension": ".py",
   "mimetype": "text/x-python",
   "name": "python",
   "nbconvert_exporter": "python",
   "pygments_lexer": "ipython3",
   "version": "3.9.12"
  }
 },
 "nbformat": 4,
 "nbformat_minor": 5
}
